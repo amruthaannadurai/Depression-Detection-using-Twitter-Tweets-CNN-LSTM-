{
  "cells": [
    {
      "cell_type": "code",
      "execution_count": null,
      "metadata": {
        "colab": {
          "base_uri": "https://localhost:8080/"
        },
        "id": "TCbyWgUNCOzK",
        "outputId": "ae35cbfa-d000-46b1-8f4e-7bd872ae34d7"
      },
      "outputs": [
        {
          "output_type": "stream",
          "name": "stdout",
          "text": [
            "Looking in indexes: https://pypi.org/simple, https://us-python.pkg.dev/colab-wheels/public/simple/\n",
            "Requirement already satisfied: ftfy in /usr/local/lib/python3.8/dist-packages (6.1.1)\n",
            "Requirement already satisfied: wcwidth>=0.2.5 in /usr/local/lib/python3.8/dist-packages (from ftfy) (0.2.6)\n"
          ]
        }
      ],
      "source": [
        "!pip3 install ftfy"
      ]
    },
    {
      "cell_type": "markdown",
      "metadata": {
        "id": "kNYPWik5COod"
      },
      "source": []
    },
    {
      "cell_type": "code",
      "source": [
        "!pip install Keras-Preprocessing"
      ],
      "metadata": {
        "colab": {
          "base_uri": "https://localhost:8080/"
        },
        "id": "Lk3Qx5ie8igb",
        "outputId": "96b7c370-290c-4412-caae-b5d33f12a454"
      },
      "execution_count": null,
      "outputs": [
        {
          "output_type": "stream",
          "name": "stdout",
          "text": [
            "Looking in indexes: https://pypi.org/simple, https://us-python.pkg.dev/colab-wheels/public/simple/\n",
            "Requirement already satisfied: Keras-Preprocessing in /usr/local/lib/python3.8/dist-packages (1.1.2)\n",
            "Requirement already satisfied: numpy>=1.9.1 in /usr/local/lib/python3.8/dist-packages (from Keras-Preprocessing) (1.22.4)\n",
            "Requirement already satisfied: six>=1.9.0 in /usr/local/lib/python3.8/dist-packages (from Keras-Preprocessing) (1.15.0)\n"
          ]
        }
      ]
    },
    {
      "cell_type": "code",
      "execution_count": null,
      "metadata": {
        "id": "aQqQ7L3mCBRz"
      },
      "outputs": [],
      "source": [
        "import warnings\n",
        "warnings.filterwarnings(\"ignore\")\n",
        "import ftfy\n",
        "import matplotlib.pyplot as plt\n",
        "import nltk\n",
        "import numpy as np\n",
        "import pandas as pd\n",
        "import re\n",
        "\n",
        "from math import exp\n",
        "from numpy import sign\n",
        "\n",
        "from sklearn.metrics import  classification_report, confusion_matrix, accuracy_score\n",
        "from gensim.models import KeyedVectors\n",
        "from nltk.corpus import stopwords\n",
        "from nltk import PorterStemmer\n",
        "\n",
        "from keras.models import Model, Sequential\n",
        "from keras.callbacks import EarlyStopping, ModelCheckpoint\n",
        "from keras.layers import Conv1D, Dense, Input, LSTM, Embedding, Dropout, Activation, MaxPooling1D\n",
        "from keras.preprocessing.text import Tokenizer\n",
        "from keras_preprocessing.sequence import pad_sequences\n"
      ]
    },
    {
      "cell_type": "markdown",
      "metadata": {
        "id": "8JVKBoN6CBRv"
      },
      "source": [
        "# Depression Detection in Social Media Posts\n",
        "\n",
        "#### Imports"
      ]
    },
    {
      "cell_type": "markdown",
      "metadata": {
        "id": "qih-T7_PCBR1"
      },
      "source": [
        "#### Constants"
      ]
    },
    {
      "cell_type": "code",
      "execution_count": null,
      "metadata": {
        "id": "jirIWLnxCBR1"
      },
      "outputs": [],
      "source": [
        "# Reproducibility\n",
        "np.random.seed(1234)\n",
        "\n",
        "DEPRES_NROWS = 3200  # number of rows to read from DEPRESSIVE_TWEETS_CSV\n",
        "RANDOM_NROWS = 12000 # number of rows to read from RANDOM_TWEETS_CSV\n",
        "MAX_SEQUENCE_LENGTH = 140 # Max tweet size\n",
        "MAX_NB_WORDS = 20000\n",
        "EMBEDDING_DIM = 300\n",
        "TRAIN_SPLIT = 0.6\n",
        "TEST_SPLIT = 0.2\n",
        "LEARNING_RATE = 0.1\n",
        "EPOCHS= 10"
      ]
    },
    {
      "cell_type": "markdown",
      "metadata": {
        "id": "eNZkwKVaCBR2"
      },
      "source": [
        "## Section 1: Load Data\n",
        "\n",
        "Loading depressive tweets scraped from twitter using [TWINT](https://github.com/haccer/twint) and random tweets from Kaggle dataset [twitter_sentiment](https://www.kaggle.com/ywang311/twitter-sentiment/data).\n",
        "\n",
        "#### File Paths"
      ]
    },
    {
      "cell_type": "code",
      "execution_count": null,
      "metadata": {
        "colab": {
          "base_uri": "https://localhost:8080/"
        },
        "id": "sK6I6j4rCupa",
        "outputId": "e697ad00-c30d-4165-ec7f-aec2437c9a9e"
      },
      "outputs": [
        {
          "output_type": "stream",
          "name": "stdout",
          "text": [
            "Drive already mounted at /content/drive; to attempt to forcibly remount, call drive.mount(\"/content/drive\", force_remount=True).\n"
          ]
        }
      ],
      "source": [
        "from google.colab import drive\n",
        "drive.mount('/content/drive')"
      ]
    },
    {
      "cell_type": "code",
      "execution_count": null,
      "metadata": {
        "id": "ga3O3l--Cx-j"
      },
      "outputs": [],
      "source": [
        "DEPRESSIVE_TWEETS_CSV = '/content/drive/MyDrive/data/depressive_tweets_processed.csv'\n",
        "RANDOM_TWEETS_CSV = '/content/drive/MyDrive/data/Sentiment Analysis Dataset 2.csv'\n",
        "EMBEDDING_FILE = '/content/drive/MyDrive/data/GoogleNews-vectors-negative300.bin.gz'"
      ]
    },
    {
      "cell_type": "code",
      "execution_count": null,
      "metadata": {
        "id": "40U2CXsVCBR3"
      },
      "outputs": [],
      "source": [
        "depressive_tweets_df = pd.read_csv(DEPRESSIVE_TWEETS_CSV, header = None, usecols = range(0,6), nrows = DEPRES_NROWS)\n",
        "random_tweets_df = pd.read_csv(RANDOM_TWEETS_CSV, encoding = \"ISO-8859-1\", usecols = range(0,4), nrows = RANDOM_NROWS)"
      ]
    },
    {
      "cell_type": "code",
      "execution_count": null,
      "metadata": {
        "colab": {
          "base_uri": "https://localhost:8080/",
          "height": 206
        },
        "id": "URqNdGUxCBR4",
        "outputId": "467d7349-6851-48aa-c48f-b33c5e3da08c"
      },
      "outputs": [
        {
          "output_type": "execute_result",
          "data": {
            "text/plain": [
              "   0           1                             2         3                4  \\\n",
              "0  0  1467810369  Mon Apr 06 22:19:45 PDT 2009  NO_QUERY  _TheSpecialOne_   \n",
              "1  0  1467810672  Mon Apr 06 22:19:49 PDT 2009  NO_QUERY    scotthamilton   \n",
              "2  0  1467810917  Mon Apr 06 22:19:53 PDT 2009  NO_QUERY         mattycus   \n",
              "3  0  1467811184  Mon Apr 06 22:19:57 PDT 2009  NO_QUERY          ElleCTF   \n",
              "4  0  1467811193  Mon Apr 06 22:19:57 PDT 2009  NO_QUERY           Karoli   \n",
              "\n",
              "                                                   5  \n",
              "0  @switchfoot http://twitpic.com/2y1zl - Awww, t...  \n",
              "1  is upset that he can't update his Facebook by ...  \n",
              "2  @Kenichan I dived many times for the ball. Man...  \n",
              "3    my whole body feels itchy and like its on fire   \n",
              "4  @nationwideclass no, it's not behaving at all....  "
            ],
            "text/html": [
              "\n",
              "  <div id=\"df-07b9bd9a-80bb-4952-8583-a3e040280d5a\">\n",
              "    <div class=\"colab-df-container\">\n",
              "      <div>\n",
              "<style scoped>\n",
              "    .dataframe tbody tr th:only-of-type {\n",
              "        vertical-align: middle;\n",
              "    }\n",
              "\n",
              "    .dataframe tbody tr th {\n",
              "        vertical-align: top;\n",
              "    }\n",
              "\n",
              "    .dataframe thead th {\n",
              "        text-align: right;\n",
              "    }\n",
              "</style>\n",
              "<table border=\"1\" class=\"dataframe\">\n",
              "  <thead>\n",
              "    <tr style=\"text-align: right;\">\n",
              "      <th></th>\n",
              "      <th>0</th>\n",
              "      <th>1</th>\n",
              "      <th>2</th>\n",
              "      <th>3</th>\n",
              "      <th>4</th>\n",
              "      <th>5</th>\n",
              "    </tr>\n",
              "  </thead>\n",
              "  <tbody>\n",
              "    <tr>\n",
              "      <th>0</th>\n",
              "      <td>0</td>\n",
              "      <td>1467810369</td>\n",
              "      <td>Mon Apr 06 22:19:45 PDT 2009</td>\n",
              "      <td>NO_QUERY</td>\n",
              "      <td>_TheSpecialOne_</td>\n",
              "      <td>@switchfoot http://twitpic.com/2y1zl - Awww, t...</td>\n",
              "    </tr>\n",
              "    <tr>\n",
              "      <th>1</th>\n",
              "      <td>0</td>\n",
              "      <td>1467810672</td>\n",
              "      <td>Mon Apr 06 22:19:49 PDT 2009</td>\n",
              "      <td>NO_QUERY</td>\n",
              "      <td>scotthamilton</td>\n",
              "      <td>is upset that he can't update his Facebook by ...</td>\n",
              "    </tr>\n",
              "    <tr>\n",
              "      <th>2</th>\n",
              "      <td>0</td>\n",
              "      <td>1467810917</td>\n",
              "      <td>Mon Apr 06 22:19:53 PDT 2009</td>\n",
              "      <td>NO_QUERY</td>\n",
              "      <td>mattycus</td>\n",
              "      <td>@Kenichan I dived many times for the ball. Man...</td>\n",
              "    </tr>\n",
              "    <tr>\n",
              "      <th>3</th>\n",
              "      <td>0</td>\n",
              "      <td>1467811184</td>\n",
              "      <td>Mon Apr 06 22:19:57 PDT 2009</td>\n",
              "      <td>NO_QUERY</td>\n",
              "      <td>ElleCTF</td>\n",
              "      <td>my whole body feels itchy and like its on fire</td>\n",
              "    </tr>\n",
              "    <tr>\n",
              "      <th>4</th>\n",
              "      <td>0</td>\n",
              "      <td>1467811193</td>\n",
              "      <td>Mon Apr 06 22:19:57 PDT 2009</td>\n",
              "      <td>NO_QUERY</td>\n",
              "      <td>Karoli</td>\n",
              "      <td>@nationwideclass no, it's not behaving at all....</td>\n",
              "    </tr>\n",
              "  </tbody>\n",
              "</table>\n",
              "</div>\n",
              "      <button class=\"colab-df-convert\" onclick=\"convertToInteractive('df-07b9bd9a-80bb-4952-8583-a3e040280d5a')\"\n",
              "              title=\"Convert this dataframe to an interactive table.\"\n",
              "              style=\"display:none;\">\n",
              "        \n",
              "  <svg xmlns=\"http://www.w3.org/2000/svg\" height=\"24px\"viewBox=\"0 0 24 24\"\n",
              "       width=\"24px\">\n",
              "    <path d=\"M0 0h24v24H0V0z\" fill=\"none\"/>\n",
              "    <path d=\"M18.56 5.44l.94 2.06.94-2.06 2.06-.94-2.06-.94-.94-2.06-.94 2.06-2.06.94zm-11 1L8.5 8.5l.94-2.06 2.06-.94-2.06-.94L8.5 2.5l-.94 2.06-2.06.94zm10 10l.94 2.06.94-2.06 2.06-.94-2.06-.94-.94-2.06-.94 2.06-2.06.94z\"/><path d=\"M17.41 7.96l-1.37-1.37c-.4-.4-.92-.59-1.43-.59-.52 0-1.04.2-1.43.59L10.3 9.45l-7.72 7.72c-.78.78-.78 2.05 0 2.83L4 21.41c.39.39.9.59 1.41.59.51 0 1.02-.2 1.41-.59l7.78-7.78 2.81-2.81c.8-.78.8-2.07 0-2.86zM5.41 20L4 18.59l7.72-7.72 1.47 1.35L5.41 20z\"/>\n",
              "  </svg>\n",
              "      </button>\n",
              "      \n",
              "  <style>\n",
              "    .colab-df-container {\n",
              "      display:flex;\n",
              "      flex-wrap:wrap;\n",
              "      gap: 12px;\n",
              "    }\n",
              "\n",
              "    .colab-df-convert {\n",
              "      background-color: #E8F0FE;\n",
              "      border: none;\n",
              "      border-radius: 50%;\n",
              "      cursor: pointer;\n",
              "      display: none;\n",
              "      fill: #1967D2;\n",
              "      height: 32px;\n",
              "      padding: 0 0 0 0;\n",
              "      width: 32px;\n",
              "    }\n",
              "\n",
              "    .colab-df-convert:hover {\n",
              "      background-color: #E2EBFA;\n",
              "      box-shadow: 0px 1px 2px rgba(60, 64, 67, 0.3), 0px 1px 3px 1px rgba(60, 64, 67, 0.15);\n",
              "      fill: #174EA6;\n",
              "    }\n",
              "\n",
              "    [theme=dark] .colab-df-convert {\n",
              "      background-color: #3B4455;\n",
              "      fill: #D2E3FC;\n",
              "    }\n",
              "\n",
              "    [theme=dark] .colab-df-convert:hover {\n",
              "      background-color: #434B5C;\n",
              "      box-shadow: 0px 1px 3px 1px rgba(0, 0, 0, 0.15);\n",
              "      filter: drop-shadow(0px 1px 2px rgba(0, 0, 0, 0.3));\n",
              "      fill: #FFFFFF;\n",
              "    }\n",
              "  </style>\n",
              "\n",
              "      <script>\n",
              "        const buttonEl =\n",
              "          document.querySelector('#df-07b9bd9a-80bb-4952-8583-a3e040280d5a button.colab-df-convert');\n",
              "        buttonEl.style.display =\n",
              "          google.colab.kernel.accessAllowed ? 'block' : 'none';\n",
              "\n",
              "        async function convertToInteractive(key) {\n",
              "          const element = document.querySelector('#df-07b9bd9a-80bb-4952-8583-a3e040280d5a');\n",
              "          const dataTable =\n",
              "            await google.colab.kernel.invokeFunction('convertToInteractive',\n",
              "                                                     [key], {});\n",
              "          if (!dataTable) return;\n",
              "\n",
              "          const docLinkHtml = 'Like what you see? Visit the ' +\n",
              "            '<a target=\"_blank\" href=https://colab.research.google.com/notebooks/data_table.ipynb>data table notebook</a>'\n",
              "            + ' to learn more about interactive tables.';\n",
              "          element.innerHTML = '';\n",
              "          dataTable['output_type'] = 'display_data';\n",
              "          await google.colab.output.renderOutput(dataTable, element);\n",
              "          const docLink = document.createElement('div');\n",
              "          docLink.innerHTML = docLinkHtml;\n",
              "          element.appendChild(docLink);\n",
              "        }\n",
              "      </script>\n",
              "    </div>\n",
              "  </div>\n",
              "  "
            ]
          },
          "metadata": {},
          "execution_count": 99
        }
      ],
      "source": [
        "depressive_tweets_df.head()"
      ]
    },
    {
      "cell_type": "code",
      "execution_count": null,
      "metadata": {
        "colab": {
          "base_uri": "https://localhost:8080/",
          "height": 206
        },
        "id": "e4KWchD0CBR4",
        "outputId": "25525a16-a24d-424a-d8f9-7cfb56c9a022",
        "scrolled": true
      },
      "outputs": [
        {
          "output_type": "execute_result",
          "data": {
            "text/plain": [
              "   ï»¿ItemID  Sentiment SentimentSource  \\\n",
              "0          1          0    Sentiment140   \n",
              "1          2          0    Sentiment140   \n",
              "2          3          1    Sentiment140   \n",
              "3          4          0    Sentiment140   \n",
              "4          5          0    Sentiment140   \n",
              "\n",
              "                                       SentimentText  \n",
              "0                       is so sad for my APL frie...  \n",
              "1                     I missed the New Moon trail...  \n",
              "2                            omg its already 7:30 :O  \n",
              "3            .. Omgaga. Im sooo  im gunna CRy. I'...  \n",
              "4           i think mi bf is cheating on me!!!   ...  "
            ],
            "text/html": [
              "\n",
              "  <div id=\"df-ac2cda26-3a07-4519-ae25-979f6f4ba22c\">\n",
              "    <div class=\"colab-df-container\">\n",
              "      <div>\n",
              "<style scoped>\n",
              "    .dataframe tbody tr th:only-of-type {\n",
              "        vertical-align: middle;\n",
              "    }\n",
              "\n",
              "    .dataframe tbody tr th {\n",
              "        vertical-align: top;\n",
              "    }\n",
              "\n",
              "    .dataframe thead th {\n",
              "        text-align: right;\n",
              "    }\n",
              "</style>\n",
              "<table border=\"1\" class=\"dataframe\">\n",
              "  <thead>\n",
              "    <tr style=\"text-align: right;\">\n",
              "      <th></th>\n",
              "      <th>ï»¿ItemID</th>\n",
              "      <th>Sentiment</th>\n",
              "      <th>SentimentSource</th>\n",
              "      <th>SentimentText</th>\n",
              "    </tr>\n",
              "  </thead>\n",
              "  <tbody>\n",
              "    <tr>\n",
              "      <th>0</th>\n",
              "      <td>1</td>\n",
              "      <td>0</td>\n",
              "      <td>Sentiment140</td>\n",
              "      <td>is so sad for my APL frie...</td>\n",
              "    </tr>\n",
              "    <tr>\n",
              "      <th>1</th>\n",
              "      <td>2</td>\n",
              "      <td>0</td>\n",
              "      <td>Sentiment140</td>\n",
              "      <td>I missed the New Moon trail...</td>\n",
              "    </tr>\n",
              "    <tr>\n",
              "      <th>2</th>\n",
              "      <td>3</td>\n",
              "      <td>1</td>\n",
              "      <td>Sentiment140</td>\n",
              "      <td>omg its already 7:30 :O</td>\n",
              "    </tr>\n",
              "    <tr>\n",
              "      <th>3</th>\n",
              "      <td>4</td>\n",
              "      <td>0</td>\n",
              "      <td>Sentiment140</td>\n",
              "      <td>.. Omgaga. Im sooo  im gunna CRy. I'...</td>\n",
              "    </tr>\n",
              "    <tr>\n",
              "      <th>4</th>\n",
              "      <td>5</td>\n",
              "      <td>0</td>\n",
              "      <td>Sentiment140</td>\n",
              "      <td>i think mi bf is cheating on me!!!   ...</td>\n",
              "    </tr>\n",
              "  </tbody>\n",
              "</table>\n",
              "</div>\n",
              "      <button class=\"colab-df-convert\" onclick=\"convertToInteractive('df-ac2cda26-3a07-4519-ae25-979f6f4ba22c')\"\n",
              "              title=\"Convert this dataframe to an interactive table.\"\n",
              "              style=\"display:none;\">\n",
              "        \n",
              "  <svg xmlns=\"http://www.w3.org/2000/svg\" height=\"24px\"viewBox=\"0 0 24 24\"\n",
              "       width=\"24px\">\n",
              "    <path d=\"M0 0h24v24H0V0z\" fill=\"none\"/>\n",
              "    <path d=\"M18.56 5.44l.94 2.06.94-2.06 2.06-.94-2.06-.94-.94-2.06-.94 2.06-2.06.94zm-11 1L8.5 8.5l.94-2.06 2.06-.94-2.06-.94L8.5 2.5l-.94 2.06-2.06.94zm10 10l.94 2.06.94-2.06 2.06-.94-2.06-.94-.94-2.06-.94 2.06-2.06.94z\"/><path d=\"M17.41 7.96l-1.37-1.37c-.4-.4-.92-.59-1.43-.59-.52 0-1.04.2-1.43.59L10.3 9.45l-7.72 7.72c-.78.78-.78 2.05 0 2.83L4 21.41c.39.39.9.59 1.41.59.51 0 1.02-.2 1.41-.59l7.78-7.78 2.81-2.81c.8-.78.8-2.07 0-2.86zM5.41 20L4 18.59l7.72-7.72 1.47 1.35L5.41 20z\"/>\n",
              "  </svg>\n",
              "      </button>\n",
              "      \n",
              "  <style>\n",
              "    .colab-df-container {\n",
              "      display:flex;\n",
              "      flex-wrap:wrap;\n",
              "      gap: 12px;\n",
              "    }\n",
              "\n",
              "    .colab-df-convert {\n",
              "      background-color: #E8F0FE;\n",
              "      border: none;\n",
              "      border-radius: 50%;\n",
              "      cursor: pointer;\n",
              "      display: none;\n",
              "      fill: #1967D2;\n",
              "      height: 32px;\n",
              "      padding: 0 0 0 0;\n",
              "      width: 32px;\n",
              "    }\n",
              "\n",
              "    .colab-df-convert:hover {\n",
              "      background-color: #E2EBFA;\n",
              "      box-shadow: 0px 1px 2px rgba(60, 64, 67, 0.3), 0px 1px 3px 1px rgba(60, 64, 67, 0.15);\n",
              "      fill: #174EA6;\n",
              "    }\n",
              "\n",
              "    [theme=dark] .colab-df-convert {\n",
              "      background-color: #3B4455;\n",
              "      fill: #D2E3FC;\n",
              "    }\n",
              "\n",
              "    [theme=dark] .colab-df-convert:hover {\n",
              "      background-color: #434B5C;\n",
              "      box-shadow: 0px 1px 3px 1px rgba(0, 0, 0, 0.15);\n",
              "      filter: drop-shadow(0px 1px 2px rgba(0, 0, 0, 0.3));\n",
              "      fill: #FFFFFF;\n",
              "    }\n",
              "  </style>\n",
              "\n",
              "      <script>\n",
              "        const buttonEl =\n",
              "          document.querySelector('#df-ac2cda26-3a07-4519-ae25-979f6f4ba22c button.colab-df-convert');\n",
              "        buttonEl.style.display =\n",
              "          google.colab.kernel.accessAllowed ? 'block' : 'none';\n",
              "\n",
              "        async function convertToInteractive(key) {\n",
              "          const element = document.querySelector('#df-ac2cda26-3a07-4519-ae25-979f6f4ba22c');\n",
              "          const dataTable =\n",
              "            await google.colab.kernel.invokeFunction('convertToInteractive',\n",
              "                                                     [key], {});\n",
              "          if (!dataTable) return;\n",
              "\n",
              "          const docLinkHtml = 'Like what you see? Visit the ' +\n",
              "            '<a target=\"_blank\" href=https://colab.research.google.com/notebooks/data_table.ipynb>data table notebook</a>'\n",
              "            + ' to learn more about interactive tables.';\n",
              "          element.innerHTML = '';\n",
              "          dataTable['output_type'] = 'display_data';\n",
              "          await google.colab.output.renderOutput(dataTable, element);\n",
              "          const docLink = document.createElement('div');\n",
              "          docLink.innerHTML = docLinkHtml;\n",
              "          element.appendChild(docLink);\n",
              "        }\n",
              "      </script>\n",
              "    </div>\n",
              "  </div>\n",
              "  "
            ]
          },
          "metadata": {},
          "execution_count": 100
        }
      ],
      "source": [
        "random_tweets_df.head()"
      ]
    },
    {
      "cell_type": "markdown",
      "metadata": {
        "id": "aYqAYUCVCBR5"
      },
      "source": [
        "## Section 2: Data Processing"
      ]
    },
    {
      "cell_type": "markdown",
      "metadata": {
        "id": "BLcJ9O4dCBR5"
      },
      "source": [
        "### Load Pretrained Word2Vec Model\n",
        "\n",
        "The pretrained vectors for the Word2Vec model is from [here](https://drive.google.com/file/d/0B7XkCwpI5KDYNlNUTTlSS21pQmM/edit).\n",
        "Using a Keyed Vectors file, we can get the embedding of any word by calling `.word_vec(word)` and we can get all the words in the model's vocabulary through `.vocab`."
      ]
    },
    {
      "cell_type": "code",
      "execution_count": null,
      "metadata": {
        "id": "acN8F6yZCBR5",
        "colab": {
          "base_uri": "https://localhost:8080/"
        },
        "outputId": "6307b1e8-95f9-4d90-a48a-86f3299b6760"
      },
      "outputs": [
        {
          "output_type": "stream",
          "name": "stdout",
          "text": [
            "EMBEDDING_FILE -f\n"
          ]
        }
      ],
      "source": [
        "import sys\n",
        "file = sys.argv[1]\n",
        "word2vec = print(\"EMBEDDING_FILE\",file)\n",
        "#word2vec = KeyedVectors.load_word2vec_format(EMBEDDING_FILE, binary=False)"
      ]
    },
    {
      "cell_type": "markdown",
      "metadata": {
        "id": "JFqCpsB6CBR6"
      },
      "source": [
        "### Preprocessing\n",
        "\n",
        "Preprocessing the tweets in order to:\n",
        "* Remove links and images\n",
        "* Remove hashtags\n",
        "* Remove @ mentions\n",
        "* Remove emojis\n",
        "* Remove stop words\n",
        "* Remove punctuation\n",
        "* Get rid of stuff like \"what's\" and making it \"what is'\n",
        "* Stem words so they are all the same tense (e.g. ran -> run)"
      ]
    },
    {
      "cell_type": "code",
      "execution_count": null,
      "metadata": {
        "id": "DHeGH_ftCBR6"
      },
      "outputs": [],
      "source": [
        "# Expand Contraction\n",
        "cList = {\n",
        "  \"ain't\": \"am not\",\n",
        "  \"aren't\": \"are not\",\n",
        "  \"can't\": \"cannot\",\n",
        "  \"can't've\": \"cannot have\",\n",
        "  \"'cause\": \"because\",\n",
        "  \"could've\": \"could have\",\n",
        "  \"couldn't\": \"could not\",\n",
        "  \"couldn't've\": \"could not have\",\n",
        "  \"didn't\": \"did not\",\n",
        "  \"doesn't\": \"does not\",\n",
        "  \"don't\": \"do not\",\n",
        "  \"hadn't\": \"had not\",\n",
        "  \"hadn't've\": \"had not have\",\n",
        "  \"hasn't\": \"has not\",\n",
        "  \"haven't\": \"have not\",\n",
        "  \"he'd\": \"he would\",\n",
        "  \"he'd've\": \"he would have\",\n",
        "  \"he'll\": \"he will\",\n",
        "  \"he'll've\": \"he will have\",\n",
        "  \"he's\": \"he is\",\n",
        "  \"how'd\": \"how did\",\n",
        "  \"how'd'y\": \"how do you\",\n",
        "  \"how'll\": \"how will\",\n",
        "  \"how's\": \"how is\",\n",
        "  \"I'd\": \"I would\",\n",
        "  \"I'd've\": \"I would have\",\n",
        "  \"I'll\": \"I will\",\n",
        "  \"I'll've\": \"I will have\",\n",
        "  \"I'm\": \"I am\",\n",
        "  \"I've\": \"I have\",\n",
        "  \"isn't\": \"is not\",\n",
        "  \"it'd\": \"it had\",\n",
        "  \"it'd've\": \"it would have\",\n",
        "  \"it'll\": \"it will\",\n",
        "  \"it'll've\": \"it will have\",\n",
        "  \"it's\": \"it is\",\n",
        "  \"let's\": \"let us\",\n",
        "  \"ma'am\": \"madam\",\n",
        "  \"mayn't\": \"may not\",\n",
        "  \"might've\": \"might have\",\n",
        "  \"mightn't\": \"might not\",\n",
        "  \"mightn't've\": \"might not have\",\n",
        "  \"must've\": \"must have\",\n",
        "  \"mustn't\": \"must not\",\n",
        "  \"mustn't've\": \"must not have\",\n",
        "  \"needn't\": \"need not\",\n",
        "  \"needn't've\": \"need not have\",\n",
        "  \"o'clock\": \"of the clock\",\n",
        "  \"oughtn't\": \"ought not\",\n",
        "  \"oughtn't've\": \"ought not have\",\n",
        "  \"shan't\": \"shall not\",\n",
        "  \"sha'n't\": \"shall not\",\n",
        "  \"shan't've\": \"shall not have\",\n",
        "  \"she'd\": \"she would\",\n",
        "  \"she'd've\": \"she would have\",\n",
        "  \"she'll\": \"she will\",\n",
        "  \"she'll've\": \"she will have\",\n",
        "  \"she's\": \"she is\",\n",
        "  \"should've\": \"should have\",\n",
        "  \"shouldn't\": \"should not\",\n",
        "  \"shouldn't've\": \"should not have\",\n",
        "  \"so've\": \"so have\",\n",
        "  \"so's\": \"so is\",\n",
        "  \"that'd\": \"that would\",\n",
        "  \"that'd've\": \"that would have\",\n",
        "  \"that's\": \"that is\",\n",
        "  \"there'd\": \"there had\",\n",
        "  \"there'd've\": \"there would have\",\n",
        "  \"there's\": \"there is\",\n",
        "  \"they'd\": \"they would\",\n",
        "  \"they'd've\": \"they would have\",\n",
        "  \"they'll\": \"they will\",\n",
        "  \"they'll've\": \"they will have\",\n",
        "  \"they're\": \"they are\",\n",
        "  \"they've\": \"they have\",\n",
        "  \"to've\": \"to have\",\n",
        "  \"wasn't\": \"was not\",\n",
        "  \"we'd\": \"we had\",\n",
        "  \"we'd've\": \"we would have\",\n",
        "  \"we'll\": \"we will\",\n",
        "  \"we'll've\": \"we will have\",\n",
        "  \"we're\": \"we are\",\n",
        "  \"we've\": \"we have\",\n",
        "  \"weren't\": \"were not\",\n",
        "  \"what'll\": \"what will\",\n",
        "  \"what'll've\": \"what will have\",\n",
        "  \"what're\": \"what are\",\n",
        "  \"what's\": \"what is\",\n",
        "  \"what've\": \"what have\",\n",
        "  \"when's\": \"when is\",\n",
        "  \"when've\": \"when have\",\n",
        "  \"where'd\": \"where did\",\n",
        "  \"where's\": \"where is\",\n",
        "  \"where've\": \"where have\",\n",
        "  \"who'll\": \"who will\",\n",
        "  \"who'll've\": \"who will have\",\n",
        "  \"who's\": \"who is\",\n",
        "  \"who've\": \"who have\",\n",
        "  \"why's\": \"why is\",\n",
        "  \"why've\": \"why have\",\n",
        "  \"will've\": \"will have\",\n",
        "  \"won't\": \"will not\",\n",
        "  \"won't've\": \"will not have\",\n",
        "  \"would've\": \"would have\",\n",
        "  \"wouldn't\": \"would not\",\n",
        "  \"wouldn't've\": \"would not have\",\n",
        "  \"y'all\": \"you all\",\n",
        "  \"y'alls\": \"you alls\",\n",
        "  \"y'all'd\": \"you all would\",\n",
        "  \"y'all'd've\": \"you all would have\",\n",
        "  \"y'all're\": \"you all are\",\n",
        "  \"y'all've\": \"you all have\",\n",
        "  \"you'd\": \"you had\",\n",
        "  \"you'd've\": \"you would have\",\n",
        "  \"you'll\": \"you you will\",\n",
        "  \"you'll've\": \"you you will have\",\n",
        "  \"you're\": \"you are\",\n",
        "  \"you've\": \"you have\"\n",
        "}\n",
        "\n",
        "c_re = re.compile('(%s)' % '|'.join(cList.keys()))\n",
        "\n",
        "def expandContractions(text, c_re=c_re):\n",
        "    def replace(match):\n",
        "        return cList[match.group(0)]\n",
        "    return c_re.sub(replace, text)"
      ]
    },
    {
      "cell_type": "code",
      "execution_count": null,
      "metadata": {
        "id": "nc46qtPZCBR7"
      },
      "outputs": [],
      "source": [
        "def clean_tweets(tweets):\n",
        "    cleaned_tweets = []\n",
        "    for tweet in tweets:\n",
        "        tweet = str(tweet)\n",
        "        # if url links then dont append to avoid news articles\n",
        "        # also check tweet length, save those > 10 (length of word \"depression\")\n",
        "        if re.match(\"(\\w+:\\/\\/\\S+)\", tweet) == None and len(tweet) > 10:\n",
        "            #remove hashtag, @mention, emoji and image URLs\n",
        "            tweet = ' '.join(re.sub(\"(@[A-Za-z0-9]+)|(\\#[A-Za-z0-9]+)|(<Emoji:.*>)|(pic\\.twitter\\.com\\/.*)\", \" \", tweet).split())\n",
        "            \n",
        "            #fix weirdly encoded texts\n",
        "            tweet = ftfy.fix_text(tweet)\n",
        "            \n",
        "            #expand contraction\n",
        "            tweet = expandContractions(tweet)\n",
        "\n",
        "            #remove punctuation\n",
        "            tweet = ' '.join(re.sub(\"([^0-9A-Za-z \\t])\", \" \", tweet).split())\n",
        "\n",
        "            #stop words\n",
        "            stop_words = set(stopwords.words('english'))\n",
        "            word_tokens = nltk.word_tokenize(tweet) \n",
        "            filtered_sentence = [w for w in word_tokens if not w in stop_words]\n",
        "            tweet = ' '.join(filtered_sentence)\n",
        "\n",
        "            #stemming words\n",
        "            tweet = PorterStemmer().stem(tweet)\n",
        "            \n",
        "            cleaned_tweets.append(tweet)\n",
        "\n",
        "    return cleaned_tweets"
      ]
    },
    {
      "cell_type": "markdown",
      "metadata": {
        "id": "M27kzgxGCBR7"
      },
      "source": [
        "Applying the preprocessing `clean_text` function to every element in the depressive tweets and random tweets data."
      ]
    },
    {
      "cell_type": "code",
      "execution_count": null,
      "metadata": {
        "colab": {
          "base_uri": "https://localhost:8080/"
        },
        "id": "Lh8aoz_1CBR7",
        "outputId": "f6e9e7e6-b68f-4b95-9f9e-9aade2011442"
      },
      "outputs": [
        {
          "output_type": "stream",
          "name": "stderr",
          "text": [
            "[nltk_data] Downloading package stopwords to /root/nltk_data...\n",
            "[nltk_data]   Package stopwords is already up-to-date!\n",
            "[nltk_data] Downloading package punkt to /root/nltk_data...\n",
            "[nltk_data]   Package punkt is already up-to-date!\n"
          ]
        }
      ],
      "source": [
        "import nltk\n",
        "nltk.download('stopwords')\n",
        "nltk.download('punkt')\n",
        "depressive_tweets_arr = [x for x in depressive_tweets_df[5]]\n",
        "random_tweets_arr = [x for x in random_tweets_df['SentimentText']]\n",
        "X_d = clean_tweets(depressive_tweets_arr)\n",
        "X_r = clean_tweets(random_tweets_arr)"
      ]
    },
    {
      "cell_type": "markdown",
      "metadata": {
        "id": "akNR9lqfCBR7"
      },
      "source": [
        "### Tokenizer\n",
        "\n",
        "Using a Tokenizer to assign indices and filtering out unfrequent words. Tokenizer creates a map of every unique word and an assigned index to it. The parameter called num_words indicates that we only care about the top 20000 most frequent words."
      ]
    },
    {
      "cell_type": "code",
      "execution_count": null,
      "metadata": {
        "id": "iCrOgOWRCBR8"
      },
      "outputs": [],
      "source": [
        "tokenizer = Tokenizer(num_words=MAX_NB_WORDS)\n",
        "tokenizer.fit_on_texts(X_d + X_r)"
      ]
    },
    {
      "cell_type": "markdown",
      "metadata": {
        "id": "3R0V-lOxCBR8"
      },
      "source": [
        "Applying the tokenizer to depressive tweets and random tweets data."
      ]
    },
    {
      "cell_type": "code",
      "execution_count": null,
      "metadata": {
        "id": "C8G1a81yCBR8"
      },
      "outputs": [],
      "source": [
        "sequences_d = tokenizer.texts_to_sequences(X_d)\n",
        "sequences_r = tokenizer.texts_to_sequences(X_r)"
      ]
    },
    {
      "cell_type": "markdown",
      "metadata": {
        "id": "JWIWLKMPCBR8"
      },
      "source": [
        "Number of unique words in tokenizer. Has to be <= 20,000."
      ]
    },
    {
      "cell_type": "code",
      "execution_count": null,
      "metadata": {
        "colab": {
          "base_uri": "https://localhost:8080/"
        },
        "id": "urUWydS-CBR8",
        "outputId": "5709ce39-f404-48d3-85f1-181f42a0f16a"
      },
      "outputs": [
        {
          "output_type": "stream",
          "name": "stdout",
          "text": [
            "Found 20008 unique tokens\n"
          ]
        }
      ],
      "source": [
        "word_index = tokenizer.word_index\n",
        "print('Found %s unique tokens' % len(word_index))"
      ]
    },
    {
      "cell_type": "markdown",
      "metadata": {
        "id": "_cMNzSqPCBR9"
      },
      "source": [
        "Pad sequences all to the same length of 140 words."
      ]
    },
    {
      "cell_type": "code",
      "execution_count": null,
      "metadata": {
        "colab": {
          "base_uri": "https://localhost:8080/"
        },
        "id": "6AEJsvndCBR9",
        "outputId": "e533b252-a770-475c-e275-e4ab6316fd60"
      },
      "outputs": [
        {
          "output_type": "stream",
          "name": "stdout",
          "text": [
            "Shape of data_d tensor: (3175, 140)\n",
            "Shape of data_r tensor: (11911, 140)\n"
          ]
        }
      ],
      "source": [
        "data_d = pad_sequences(sequences_d, maxlen=MAX_SEQUENCE_LENGTH)\n",
        "data_r = pad_sequences(sequences_r, maxlen=MAX_SEQUENCE_LENGTH)\n",
        "print('Shape of data_d tensor:', data_d.shape)\n",
        "print('Shape of data_r tensor:', data_r.shape)"
      ]
    },
    {
      "cell_type": "markdown",
      "metadata": {
        "id": "kxiY3FFmCBR9"
      },
      "source": [
        "### Embedding Matrix\n",
        "\n",
        "The embedding matrix is a `n x m` matrix where `n` is the number of words and `m` is the dimension of the embedding. In this case, `m=300` and `n=20000`. We take the min between the number of unique words in our tokenizer and max words in case there are less unique words than the max we specified."
      ]
    },
    {
      "cell_type": "code",
      "execution_count": null,
      "metadata": {
        "id": "aq2ciWbZCBR9"
      },
      "outputs": [],
      "source": [
        "# nb_words = min(MAX_NB_WORDS, len(word_index))\n",
        "\n",
        "# embedding_matrix = np.zeros((nb_words, EMBEDDING_DIM))\n",
        "\n",
        "# for (word, idx) in word_index.items():\n",
        "#   if word in word2vec.vocab: and idx < MAX_NB_WORDS:\n",
        "#         embedding_matrix[idx] = word2vec.word_vec(word)"
      ]
    },
    {
      "cell_type": "markdown",
      "metadata": {
        "id": "bYVPvAMkCBR9"
      },
      "source": [
        "### Splitting and Formatting Data\n",
        "\n",
        "Assigning labels to the depressive tweets and random tweets data, and splitting the arrays into test (60%), validation (20%), and train data (20%). Combine depressive tweets and random tweets arrays and shuffle."
      ]
    },
    {
      "cell_type": "code",
      "execution_count": null,
      "metadata": {
        "id": "LDKvqiMrCBR9"
      },
      "outputs": [],
      "source": [
        "# Assigning labels to the depressive tweets and random tweets data\n",
        "labels_d = np.array([1] * DEPRES_NROWS)\n",
        "labels_r = np.array([0] * RANDOM_NROWS)\n",
        "\n",
        "# Splitting the arrays into test (60%), validation (20%), and train data (20%)\n",
        "perm_d = np.random.permutation(len(data_d))\n",
        "idx_train_d = perm_d[:int(len(data_d)*(TRAIN_SPLIT))]\n",
        "idx_test_d = perm_d[int(len(data_d)*(TRAIN_SPLIT)):int(len(data_d)*(TRAIN_SPLIT+TEST_SPLIT))]\n",
        "idx_val_d = perm_d[int(len(data_d)*(TRAIN_SPLIT+TEST_SPLIT)):]\n",
        "\n",
        "perm_r = np.random.permutation(len(data_r))\n",
        "idx_train_r = perm_r[:int(len(data_r)*(TRAIN_SPLIT))]\n",
        "idx_test_r = perm_r[int(len(data_r)*(TRAIN_SPLIT)):int(len(data_r)*(TRAIN_SPLIT+TEST_SPLIT))]\n",
        "idx_val_r = perm_r[int(len(data_r)*(TRAIN_SPLIT+TEST_SPLIT)):]\n",
        "\n",
        "# Combine depressive tweets and random tweets arrays\n",
        "data_train = np.concatenate((data_d[idx_train_d], data_r[idx_train_r]))\n",
        "labels_train = np.concatenate((labels_d[idx_train_d], labels_r[idx_train_r]))\n",
        "data_test = np.concatenate((data_d[idx_test_d], data_r[idx_test_r]))\n",
        "labels_test = np.concatenate((labels_d[idx_test_d], labels_r[idx_test_r]))\n",
        "data_val = np.concatenate((data_d[idx_val_d], data_r[idx_val_r]))\n",
        "labels_val = np.concatenate((labels_d[idx_val_d], labels_r[idx_val_r]))\n",
        "\n",
        "# Shuffling\n",
        "perm_train = np.random.permutation(len(data_train))\n",
        "data_train = data_train[perm_train]\n",
        "labels_train = labels_train[perm_train]\n",
        "perm_test = np.random.permutation(len(data_test))\n",
        "data_test = data_test[perm_test]\n",
        "labels_test = labels_test[perm_test]\n",
        "perm_val = np.random.permutation(len(data_val))\n",
        "data_val = data_val[perm_val]\n",
        "labels_val = labels_val[perm_val]"
      ]
    },
    {
      "cell_type": "markdown",
      "metadata": {
        "id": "1NOE8SjtCBR-"
      },
      "source": [
        "## Section 3: Building the Model"
      ]
    },
    {
      "cell_type": "markdown",
      "metadata": {
        "id": "vYsx9ILgCBR-"
      },
      "source": [
        "### Building Model (LSTM + CNN)\n",
        "\n",
        "The model takes in an input and then outputs a single number representing the probability that the tweet indicates depression. The model takes in each input sentence, replace it with it's embeddings, then run the new embedding vector through a convolutional layer. CNNs are excellent at learning spatial structure from data, the convolutional layer takes advantage of that and learn some structure from the sequential data then pass into a standard LSTM layer. Last but not least, the output of the LSTM layer is fed into a standard Dense model for prediction."
      ]
    },
    {
      "cell_type": "code",
      "execution_count": null,
      "metadata": {
        "id": "qShgBbV0CBR-"
      },
      "outputs": [],
      "source": [
        "model = Sequential()\n",
        "# Embedded layer\n",
        "model.add(Embedding(len(embedding_matrix), EMBEDDING_DIM, weights=[embedding_matrix], \n",
        "                            input_length=MAX_SEQUENCE_LENGTH, trainable=False))\n",
        "# Convolutional Layer\n",
        "model.add(Conv1D(filters=32, kernel_size=3, padding='same', activation='relu'))\n",
        "model.add(MaxPooling1D(pool_size=2))\n",
        "model.add(Dropout(0.2))\n",
        "# LSTM Layer\n",
        "model.add(LSTM(300))\n",
        "model.add(Dropout(0.2))\n",
        "model.add(Dense(1, activation='sigmoid'))"
      ]
    },
    {
      "cell_type": "markdown",
      "metadata": {
        "id": "8jOahiW3CBR-"
      },
      "source": [
        "### Compiling Model"
      ]
    },
    {
      "cell_type": "code",
      "execution_count": null,
      "metadata": {
        "colab": {
          "base_uri": "https://localhost:8080/"
        },
        "id": "8Flrdek0CBR-",
        "outputId": "1375babe-fc57-4457-b7f7-b7528ef7db37"
      },
      "outputs": [
        {
          "output_type": "stream",
          "name": "stdout",
          "text": [
            "Model: \"sequential_2\"\n",
            "_________________________________________________________________\n",
            " Layer (type)                Output Shape              Param #   \n",
            "=================================================================\n",
            " embedding_2 (Embedding)     (None, 140, 300)          6000000   \n",
            "                                                                 \n",
            " conv1d_1 (Conv1D)           (None, 140, 32)           28832     \n",
            "                                                                 \n",
            " max_pooling1d_1 (MaxPooling  (None, 70, 32)           0         \n",
            " 1D)                                                             \n",
            "                                                                 \n",
            " dropout_2 (Dropout)         (None, 70, 32)            0         \n",
            "                                                                 \n",
            " lstm_2 (LSTM)               (None, 300)               399600    \n",
            "                                                                 \n",
            " dropout_3 (Dropout)         (None, 300)               0         \n",
            "                                                                 \n",
            " dense_4 (Dense)             (None, 1)                 301       \n",
            "                                                                 \n",
            "=================================================================\n",
            "Total params: 6,428,733\n",
            "Trainable params: 428,733\n",
            "Non-trainable params: 6,000,000\n",
            "_________________________________________________________________\n",
            "None\n"
          ]
        }
      ],
      "source": [
        "model.compile(loss='binary_crossentropy', optimizer='nadam', metrics=['acc'])\n",
        "print(model.summary())"
      ]
    },
    {
      "cell_type": "markdown",
      "metadata": {
        "id": "tXi4kNMwCBR-"
      },
      "source": [
        "## Section 4: Training the Model\n",
        "\n",
        "The model is trained `EPOCHS` time, and Early Stopping argument is used to end training if the loss or accuracy don't improve within 3 epochs."
      ]
    },
    {
      "cell_type": "code",
      "execution_count": null,
      "metadata": {
        "colab": {
          "base_uri": "https://localhost:8080/"
        },
        "id": "sdXnKUBpCBR-",
        "outputId": "f47e91ee-01a4-43f0-8e60-13cb5c046dbb"
      },
      "outputs": [
        {
          "output_type": "stream",
          "name": "stdout",
          "text": [
            "Epoch 1/10\n",
            "227/227 [==============================] - 7s 14ms/step - loss: 0.5320 - acc: 0.7895 - val_loss: 0.5146 - val_acc: 0.7896\n",
            "Epoch 2/10\n",
            "227/227 [==============================] - 3s 15ms/step - loss: 0.5185 - acc: 0.7895 - val_loss: 0.5171 - val_acc: 0.7896\n",
            "Epoch 3/10\n",
            "227/227 [==============================] - 6s 25ms/step - loss: 0.5180 - acc: 0.7895 - val_loss: 0.5154 - val_acc: 0.7896\n",
            "Epoch 4/10\n",
            "227/227 [==============================] - 6s 24ms/step - loss: 0.5162 - acc: 0.7895 - val_loss: 0.5146 - val_acc: 0.7896\n",
            "Epoch 5/10\n",
            "227/227 [==============================] - 4s 20ms/step - loss: 0.5162 - acc: 0.7895 - val_loss: 0.5146 - val_acc: 0.7896\n",
            "Epoch 6/10\n",
            "227/227 [==============================] - 7s 31ms/step - loss: 0.5168 - acc: 0.7895 - val_loss: 0.5145 - val_acc: 0.7896\n",
            "Epoch 7/10\n",
            "227/227 [==============================] - 4s 20ms/step - loss: 0.5161 - acc: 0.7895 - val_loss: 0.5148 - val_acc: 0.7896\n",
            "Epoch 8/10\n",
            "227/227 [==============================] - 4s 16ms/step - loss: 0.5166 - acc: 0.7895 - val_loss: 0.5153 - val_acc: 0.7896\n",
            "Epoch 9/10\n",
            "227/227 [==============================] - 6s 26ms/step - loss: 0.5155 - acc: 0.7895 - val_loss: 0.5154 - val_acc: 0.7896\n"
          ]
        }
      ],
      "source": [
        "early_stop = EarlyStopping(monitor='val_loss', patience=3)\n",
        "\n",
        "hist = model.fit(data_train, labels_train, \\\n",
        "        validation_data=(data_val, labels_val), \\\n",
        "        epochs=EPOCHS, batch_size=40, shuffle=True, \\\n",
        "        callbacks=[early_stop])"
      ]
    },
    {
      "cell_type": "markdown",
      "metadata": {
        "id": "Kjbd_AsyCBR_"
      },
      "source": [
        "### Results"
      ]
    },
    {
      "cell_type": "markdown",
      "metadata": {
        "id": "7tSoX-F_CBR_"
      },
      "source": [
        "Summarize history for accuracy"
      ]
    },
    {
      "cell_type": "code",
      "execution_count": null,
      "metadata": {
        "colab": {
          "base_uri": "https://localhost:8080/",
          "height": 295
        },
        "id": "aC8apTJWCBR_",
        "outputId": "f1c798a7-948c-4252-bfda-34f3c357f26a"
      },
      "outputs": [
        {
          "output_type": "display_data",
          "data": {
            "text/plain": [
              "<Figure size 432x288 with 1 Axes>"
            ],
            "image/png": "[encoded data removed]"
          },
          "metadata": {
            "needs_background": "light"
          }
        }
      ],
      "source": [
        "plt.plot(hist.history['acc'])\n",
        "plt.plot(hist.history['val_acc'])\n",
        "plt.title('model accuracy')\n",
        "plt.ylabel('accuracy')\n",
        "plt.xlabel('epoch')\n",
        "plt.legend(['train', 'validation'], loc='upper left')\n",
        "plt.show()"
      ]
    },
    {
      "cell_type": "markdown",
      "metadata": {
        "id": "vWp_0AKqCBR_"
      },
      "source": [
        "Summarize history for loss"
      ]
    },
    {
      "cell_type": "code",
      "execution_count": null,
      "metadata": {
        "colab": {
          "base_uri": "https://localhost:8080/",
          "height": 295
        },
        "id": "grsnvHkOCBR_",
        "outputId": "501e7c33-ace7-4fca-90df-797b21056c71"
      },
      "outputs": [
        {
          "output_type": "display_data",
          "data": {
            "text/plain": [
              "<Figure size 432x288 with 1 Axes>"
            ],
            "image/png": "[encoded data removed]"
          },
          "metadata": {
            "needs_background": "light"
          }
        }
      ],
      "source": [
        "plt.plot(hist.history['loss'])\n",
        "plt.plot(hist.history['val_loss'])\n",
        "plt.title('model loss')\n",
        "plt.ylabel('loss')\n",
        "plt.xlabel('epoch')\n",
        "plt.legend(['train', 'test'], loc='upper left')\n",
        "plt.show()"
      ]
    },
    {
      "cell_type": "markdown",
      "metadata": {
        "id": "IXp2_UfNCBR_"
      },
      "source": [
        "Percentage accuracy of model"
      ]
    },
    {
      "cell_type": "code",
      "execution_count": null,
      "metadata": {
        "colab": {
          "base_uri": "https://localhost:8080/"
        },
        "id": "Fg9YLdZtCBSA",
        "outputId": "90e095e1-8440-415d-c515-d3ff4c5ab852"
      },
      "outputs": [
        {
          "output_type": "stream",
          "name": "stdout",
          "text": [
            "95/95 [==============================] - 1s 4ms/step\n",
            "Accuracy: 78.95%\n"
          ]
        }
      ],
      "source": [
        "labels_pred = model.predict(data_test)\n",
        "labels_pred = np.round(labels_pred.flatten())\n",
        "accuracy = accuracy_score(labels_test, labels_pred)\n",
        "print(\"Accuracy: %.2f%%\" % (accuracy*100))"
      ]
    },
    {
      "cell_type": "markdown",
      "metadata": {
        "id": "JIPaOEnbCBSA"
      },
      "source": [
        "f1, precision, and recall scores"
      ]
    },
    {
      "cell_type": "code",
      "execution_count": null,
      "metadata": {
        "colab": {
          "base_uri": "https://localhost:8080/"
        },
        "id": "y_jkDW_ICBSA",
        "outputId": "46020e06-e99d-4c10-8cde-29d25c43b5c9"
      },
      "outputs": [
        {
          "output_type": "stream",
          "name": "stdout",
          "text": [
            "              precision    recall  f1-score   support\n",
            "\n",
            "           0       0.79      1.00      0.88      2382\n",
            "           1       0.00      0.00      0.00       635\n",
            "\n",
            "    accuracy                           0.79      3017\n",
            "   macro avg       0.39      0.50      0.44      3017\n",
            "weighted avg       0.62      0.79      0.70      3017\n",
            "\n"
          ]
        }
      ],
      "source": [
        "print(classification_report(labels_test, labels_pred))"
      ]
    },
    {
      "cell_type": "markdown",
      "metadata": {
        "id": "kiizEPcsCBSA"
      },
      "source": [
        "## Section 5: Comparing the Model to Base Line\n",
        "\n",
        "In order to evaluate the effectiveness of the LSTM + CNN model, a logistic regression model is trained with the same train data and the same number of epochs, and tested with the same test data."
      ]
    },
    {
      "cell_type": "markdown",
      "metadata": {
        "id": "FWEVhmZUCBSA"
      },
      "source": [
        "### Logistic Regression Base Line Model"
      ]
    },
    {
      "cell_type": "code",
      "execution_count": null,
      "metadata": {
        "id": "VXerwc0vCBSA"
      },
      "outputs": [],
      "source": [
        "class LogReg:\n",
        "    \"\"\"\n",
        "    Class to represent a logistic regression model.\n",
        "    \"\"\"\n",
        "\n",
        "    def __init__(self, l_rate, epochs, n_features):\n",
        "        \"\"\"\n",
        "        Create a new model with certain parameters.\n",
        "\n",
        "        :param l_rate: Initial learning rate for model.\n",
        "        :param epoch: Number of epochs to train for.\n",
        "        :param n_features: Number of features.\n",
        "        \"\"\"\n",
        "        self.l_rate = l_rate\n",
        "        self.epochs = epochs\n",
        "        self.coef = [0.0] * n_features\n",
        "        self.bias = 0.0\n",
        "\n",
        "    def sigmoid(self, score, threshold=20.0):\n",
        "        \"\"\"\n",
        "        Prevent overflow of exp by capping activation at 20.\n",
        "\n",
        "        :param score: A real valued number to convert into a number between 0 and 1\n",
        "        \"\"\"\n",
        "        if abs(score) > threshold:\n",
        "            score = threshold * sign(score)\n",
        "        activation = exp(score)\n",
        "        return activation / (1.0 + activation)\n",
        "\n",
        "    def predict(self, features):\n",
        "        \"\"\"\n",
        "        Given an example's features and the coefficients, predicts the class.\n",
        "\n",
        "        :param features: List of real valued features for a single training example.\n",
        "\n",
        "        :return: Returns the predicted class (either 0 or 1).\n",
        "        \"\"\"\n",
        "        value = sum([features[i]*self.coef[i] for i in range(len(features))]) + self.bias\n",
        "        return self.sigmoid(value)\n",
        "\n",
        "    def sg_update(self, features, label):\n",
        "        \"\"\"\n",
        "        Computes the update to the weights based on a predicted example.\n",
        "\n",
        "        :param features: Features to train on.\n",
        "        :param label: Corresponding label for features.\n",
        "        \"\"\"\n",
        "        yhat = self.predict(features)\n",
        "        e = label - yhat\n",
        "        self.bias = self.bias + self.l_rate * e * yhat * (1-yhat)\n",
        "        for i in range(len(features)):\n",
        "            self.coef[i] = self.coef[i] + self.l_rate * e * yhat * (1-yhat) * features[i]\n",
        "        return\n",
        "\n",
        "    def train(self, X, y):\n",
        "        \"\"\"\n",
        "        Computes logistic regression coefficients using stochastic gradient descent.\n",
        "\n",
        "        :param X: Features to train on.\n",
        "        :param y: Corresponding label for each set of features.\n",
        "\n",
        "        :return: Returns a list of model weight coefficients where coef[0] is the bias.\n",
        "        \"\"\"\n",
        "        for epoch in range(self.epochs):\n",
        "            for features, label in zip(X, y):\n",
        "                self.sg_update(features, label)\n",
        "        return self.bias, self.coef"
      ]
    },
    {
      "cell_type": "code",
      "execution_count": null,
      "metadata": {
        "id": "Grt_3gnWCBSA"
      },
      "outputs": [],
      "source": [
        "def get_accuracy(y_bar, y_pred):\n",
        "    \"\"\"\n",
        "    Computes what percent of the total testing data the model classified correctly.\n",
        "\n",
        "    :param y_bar: List of ground truth classes for each example.\n",
        "    :param y_pred: List of model predicted class for each example.\n",
        "\n",
        "    :return: Returns a real number between 0 and 1 for the model accuracy.\n",
        "    \"\"\"\n",
        "    correct = 0\n",
        "    for i in range(len(y_bar)):\n",
        "        if y_bar[i] == y_pred[i]:\n",
        "            correct += 1\n",
        "    accuracy = (correct / len(y_bar)) * 100.0\n",
        "    return accuracy"
      ]
    },
    {
      "cell_type": "markdown",
      "metadata": {
        "id": "fss6RSpaCBSB"
      },
      "source": [
        "Training the logistic regression model"
      ]
    },
    {
      "cell_type": "code",
      "execution_count": null,
      "metadata": {
        "id": "0Y_KkDu7CBSB"
      },
      "outputs": [],
      "source": [
        "# Logistic Model\n",
        "logreg = LogReg(LEARNING_RATE, EPOCHS, len(data_train[0]))\n",
        "bias_logreg, weights_logreg = logreg.train(data_train, labels_train)\n",
        "y_logistic = [round(logreg.predict(example)) for example in data_test]"
      ]
    },
    {
      "cell_type": "markdown",
      "metadata": {
        "id": "K7fqUucOCBSB"
      },
      "source": [
        "Getting the accuracy of the logistic regression model predicting the test data"
      ]
    },
    {
      "cell_type": "code",
      "execution_count": null,
      "metadata": {
        "id": "czYbPSV9CBSB",
        "colab": {
          "base_uri": "https://localhost:8080/"
        },
        "outputId": "5258846c-1c4b-43c7-c612-5fa2d669967a"
      },
      "outputs": [
        {
          "output_type": "stream",
          "name": "stdout",
          "text": [
            "Logistic Regression Accuracy: 21.710\n"
          ]
        }
      ],
      "source": [
        "# Compare accuracies\n",
        "accuracy_logistic = get_accuracy(y_logistic, labels_test)\n",
        "print('Logistic Regression Accuracy: {:0.3f}'.format(accuracy_logistic))"
      ]
    },
    {
      "cell_type": "code",
      "execution_count": null,
      "metadata": {
        "id": "vTg_KGk6Il2E"
      },
      "outputs": [],
      "source": [
        "from keras.models import Sequential\n",
        "from keras.layers import Dense, Embedding, LSTM, Dropout\n",
        "from sklearn.feature_extraction.text import CountVectorizer\n",
        "from keras.preprocessing.text import Tokenizer\n",
        "from keras_preprocessing.sequence import pad_sequences\n",
        "from keras.utils.np_utils import to_categorical\n",
        "import re\n",
        "from sklearn.model_selection import train_test_split\n"
      ]
    },
    {
      "cell_type": "code",
      "execution_count": null,
      "metadata": {
        "id": "U91FaA2EKHwF",
        "colab": {
          "base_uri": "https://localhost:8080/",
          "height": 35
        },
        "outputId": "9af33fd7-04bb-4063-95bc-35a7db123dc9"
      },
      "outputs": [
        {
          "output_type": "execute_result",
          "data": {
            "text/plain": [
              "'2.11.0'"
            ],
            "application/vnd.google.colaboratory.intrinsic+json": {
              "type": "string"
            }
          },
          "metadata": {},
          "execution_count": 123
        }
      ],
      "source": [
        "import keras\n",
        "keras.__version__"
      ]
    },
    {
      "cell_type": "code",
      "execution_count": null,
      "metadata": {
        "id": "XabL7M7AKKc7"
      },
      "outputs": [],
      "source": [
        "X_train, X_test, y_train, y_test = train_test_split(data_r, X_r, test_size=0.2, random_state=101)\n"
      ]
    },
    {
      "cell_type": "code",
      "execution_count": null,
      "metadata": {
        "colab": {
          "base_uri": "https://localhost:8080/"
        },
        "id": "wZU01URI1b8_",
        "outputId": "6705b1de-71e5-46e6-fa13-bab81be3ea74"
      },
      "outputs": [
        {
          "output_type": "stream",
          "name": "stderr",
          "text": [
            "WARNING:tensorflow:`period` argument is deprecated. Please use `save_freq` to specify the frequency in number of batches seen.\n"
          ]
        },
        {
          "output_type": "stream",
          "name": "stdout",
          "text": [
            "Epoch 1/10\n",
            "280/283 [============================>.] - ETA: 0s - loss: 0.5121 - accuracy: 0.7897\n",
            "Epoch 1: val_accuracy improved from -inf to 0.78960, saving model to rnn_model.hdf5\n",
            "283/283 [==============================] - 18s 49ms/step - loss: 0.5118 - accuracy: 0.7897 - val_loss: 0.4876 - val_accuracy: 0.7896\n",
            "Epoch 2/10\n",
            "280/283 [============================>.] - ETA: 0s - loss: 0.4358 - accuracy: 0.8037\n",
            "Epoch 2: val_accuracy improved from 0.78960 to 0.79192, saving model to rnn_model.hdf5\n",
            "283/283 [==============================] - 4s 14ms/step - loss: 0.4352 - accuracy: 0.8044 - val_loss: 0.5047 - val_accuracy: 0.7919\n",
            "Epoch 3/10\n",
            "282/283 [============================>.] - ETA: 0s - loss: 0.3623 - accuracy: 0.8392\n",
            "Epoch 3: val_accuracy did not improve from 0.79192\n",
            "283/283 [==============================] - 5s 17ms/step - loss: 0.3628 - accuracy: 0.8389 - val_loss: 0.5682 - val_accuracy: 0.7220\n",
            "Epoch 4/10\n",
            "282/283 [============================>.] - ETA: 0s - loss: 0.2980 - accuracy: 0.8736\n",
            "Epoch 4: val_accuracy did not improve from 0.79192\n",
            "283/283 [==============================] - 4s 15ms/step - loss: 0.2978 - accuracy: 0.8737 - val_loss: 0.5978 - val_accuracy: 0.7359\n",
            "Epoch 5/10\n",
            "282/283 [============================>.] - ETA: 0s - loss: 0.2458 - accuracy: 0.8978\n",
            "Epoch 5: val_accuracy did not improve from 0.79192\n",
            "283/283 [==============================] - 3s 11ms/step - loss: 0.2456 - accuracy: 0.8977 - val_loss: 0.6701 - val_accuracy: 0.7522\n",
            "Epoch 6/10\n",
            "283/283 [==============================] - ETA: 0s - loss: 0.2058 - accuracy: 0.9160\n",
            "Epoch 6: val_accuracy did not improve from 0.79192\n",
            "283/283 [==============================] - 3s 11ms/step - loss: 0.2058 - accuracy: 0.9160 - val_loss: 0.8095 - val_accuracy: 0.7478\n",
            "Epoch 7/10\n",
            "280/283 [============================>.] - ETA: 0s - loss: 0.1773 - accuracy: 0.9265\n",
            "Epoch 7: val_accuracy did not improve from 0.79192\n",
            "283/283 [==============================] - 3s 12ms/step - loss: 0.1771 - accuracy: 0.9264 - val_loss: 0.8881 - val_accuracy: 0.7449\n",
            "Epoch 8/10\n",
            "280/283 [============================>.] - ETA: 0s - loss: 0.1549 - accuracy: 0.9363\n",
            "Epoch 8: val_accuracy did not improve from 0.79192\n",
            "283/283 [==============================] - 4s 14ms/step - loss: 0.1543 - accuracy: 0.9366 - val_loss: 0.9822 - val_accuracy: 0.7475\n",
            "Epoch 9/10\n",
            "279/283 [============================>.] - ETA: 0s - loss: 0.1398 - accuracy: 0.9424\n",
            "Epoch 9: val_accuracy did not improve from 0.79192\n",
            "283/283 [==============================] - 3s 11ms/step - loss: 0.1408 - accuracy: 0.9421 - val_loss: 1.0387 - val_accuracy: 0.7502\n",
            "Epoch 10/10\n",
            "283/283 [==============================] - ETA: 0s - loss: 0.1273 - accuracy: 0.9482\n",
            "Epoch 10: val_accuracy did not improve from 0.79192\n",
            "283/283 [==============================] - 3s 12ms/step - loss: 0.1273 - accuracy: 0.9482 - val_loss: 1.1801 - val_accuracy: 0.7435\n"
          ]
        }
      ],
      "source": [
        "from keras.models import Sequential\n",
        "from keras import layers\n",
        "from keras import regularizers\n",
        "from keras import backend as K\n",
        "from keras.callbacks import ModelCheckpoint\n",
        "model2 = Sequential()\n",
        "max_words=5000\n",
        "model2.add(layers.Embedding(max_words, 128))\n",
        "model2.add(layers.LSTM(64,dropout=0.5))\n",
        "model2.add(layers.Dense(16, activation='relu'))\n",
        "model2.add(layers.Dense(8, activation='relu'))\n",
        "model2.add(layers.Dense(1,activation='sigmoid'))\n",
        "model2.compile(optimizer='adam',loss='binary_crossentropy', metrics=['accuracy'])\n",
        "checkpoint2 = ModelCheckpoint(\"rnn_model.hdf5\", monitor='val_accuracy', verbose=1,save_best_only=True, mode='auto', period=1,save_weights_only=False)\n",
        "history = model2.fit(data_train, labels_train, epochs=10,validation_data=(data_val, labels_val),callbacks=[checkpoint2])"
      ]
    },
    {
      "cell_type": "code",
      "execution_count": null,
      "metadata": {
        "colab": {
          "base_uri": "https://localhost:8080/"
        },
        "id": "mcv_XkKj41tW",
        "outputId": "82f6d022-1a90-4b6f-b61f-ff28a0462bcd"
      },
      "outputs": [
        {
          "output_type": "stream",
          "name": "stdout",
          "text": [
            "1/1 [==============================] - 0s 333ms/step\n",
            "Not depressed\n"
          ]
        }
      ],
      "source": [
        "sequence = tokenizer.texts_to_sequences(['My life is great'])\n",
        "max_len=200\n",
        "test = pad_sequences(sequence, maxlen=max_len)\n",
        "pred = model2.predict(test)\n",
        "if pred > 0.5:\n",
        "  print('Depressed')\n",
        "else:\n",
        "  print('Not depressed')"
      ]
    }
  ],
  "metadata": {
    "accelerator": "GPU",
    "colab": {
      "provenance": []
    },
    "gpuClass": "standard",
    "kernelspec": {
      "display_name": "Python 3",
      "language": "python",
      "name": "python3"
    },
    "language_info": {
      "codemirror_mode": {
        "name": "ipython",
        "version": 3
      },
      "file_extension": ".py",
      "mimetype": "text/x-python",
      "name": "python",
      "nbconvert_exporter": "python",
      "pygments_lexer": "ipython3",
      "version": "3.6.4"
    }
  },
  "nbformat": 4,
  "nbformat_minor": 0
}